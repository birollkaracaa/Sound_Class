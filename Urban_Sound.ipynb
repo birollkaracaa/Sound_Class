{
  "cells": [
    {
      "cell_type": "code",
      "execution_count": 1,
      "metadata": {
        "id": "c1zvxhp99JUe"
      },
      "outputs": [],
      "source": [
        "import tensorflow as tf\n",
        "import keras\n",
        "import pandas as pd\n",
        "import numpy as np\n",
        "from matplotlib import pyplot as plt\n",
        "import librosa\n",
        "import librosa.display\n",
        "from getpass import getpass"
      ]
    },
    {
      "cell_type": "markdown",
      "metadata": {
        "id": "l13JneVjOvV_"
      },
      "source": [
        "**Importing The Dataset**"
      ]
    },
    {
      "cell_type": "code",
      "execution_count": 3,
      "metadata": {
        "id": "pUwcScoeD2Yx"
      },
      "outputs": [],
      "source": [
        "data , sr = librosa.load('audio/fold1/7061-6-0-0.wav')"
      ]
    },
    {
      "cell_type": "code",
      "execution_count": 4,
      "metadata": {
        "colab": {
          "base_uri": "https://localhost:8080/",
          "height": 297
        },
        "id": "4UZfQ0PQEuWW",
        "outputId": "97a5283d-4eeb-4009-dde2-d8df61c78051"
      },
      "outputs": [
        {
          "name": "stderr",
          "output_type": "stream",
          "text": [
            "C:\\Users\\yello\\AppData\\Local\\Temp\\ipykernel_12964\\2123299980.py:2: FutureWarning: Pass sr=22050 as keyword args. From version 0.10 passing these as positional arguments will result in an error\n",
            "  librosa.display.waveshow(data, sr)\n"
          ]
        },
        {
          "data": {
            "text/plain": [
              "<librosa.display.AdaptiveWaveplot at 0x20a9229c6d0>"
            ]
          },
          "execution_count": 4,
          "metadata": {},
          "output_type": "execute_result"
        },
        {
          "data": {
            "image/png": "[encoded data removed]",
            "text/plain": [
              "<Figure size 600x400 with 1 Axes>"
            ]
          },
          "metadata": {},
          "output_type": "display_data"
        }
      ],
      "source": [
        "plt.figure(figsize=(6, 4))\n",
        "librosa.display.waveshow(data, sr)"
      ]
    },
    {
      "cell_type": "code",
      "execution_count": 5,
      "metadata": {
        "colab": {
          "base_uri": "https://localhost:8080/",
          "height": 197
        },
        "id": "9Jc1rlMnF3_N",
        "outputId": "8afa8cdb-0cf8-4b67-8d64-5f2bba404142"
      },
      "outputs": [
        {
          "data": {
            "text/html": [
              "<div>\n",
              "<style scoped>\n",
              "    .dataframe tbody tr th:only-of-type {\n",
              "        vertical-align: middle;\n",
              "    }\n",
              "\n",
              "    .dataframe tbody tr th {\n",
              "        vertical-align: top;\n",
              "    }\n",
              "\n",
              "    .dataframe thead th {\n",
              "        text-align: right;\n",
              "    }\n",
              "</style>\n",
              "<table border=\"1\" class=\"dataframe\">\n",
              "  <thead>\n",
              "    <tr style=\"text-align: right;\">\n",
              "      <th></th>\n",
              "      <th>slice_file_name</th>\n",
              "      <th>fsID</th>\n",
              "      <th>start</th>\n",
              "      <th>end</th>\n",
              "      <th>salience</th>\n",
              "      <th>fold</th>\n",
              "      <th>classID</th>\n",
              "      <th>class</th>\n",
              "    </tr>\n",
              "  </thead>\n",
              "  <tbody>\n",
              "    <tr>\n",
              "      <th>0</th>\n",
              "      <td>100032-3-0-0.wav</td>\n",
              "      <td>100032</td>\n",
              "      <td>0.0</td>\n",
              "      <td>0.317551</td>\n",
              "      <td>1</td>\n",
              "      <td>5</td>\n",
              "      <td>3</td>\n",
              "      <td>dog_bark</td>\n",
              "    </tr>\n",
              "    <tr>\n",
              "      <th>1</th>\n",
              "      <td>100263-2-0-117.wav</td>\n",
              "      <td>100263</td>\n",
              "      <td>58.5</td>\n",
              "      <td>62.500000</td>\n",
              "      <td>1</td>\n",
              "      <td>5</td>\n",
              "      <td>2</td>\n",
              "      <td>children_playing</td>\n",
              "    </tr>\n",
              "    <tr>\n",
              "      <th>2</th>\n",
              "      <td>100263-2-0-121.wav</td>\n",
              "      <td>100263</td>\n",
              "      <td>60.5</td>\n",
              "      <td>64.500000</td>\n",
              "      <td>1</td>\n",
              "      <td>5</td>\n",
              "      <td>2</td>\n",
              "      <td>children_playing</td>\n",
              "    </tr>\n",
              "    <tr>\n",
              "      <th>3</th>\n",
              "      <td>100263-2-0-126.wav</td>\n",
              "      <td>100263</td>\n",
              "      <td>63.0</td>\n",
              "      <td>67.000000</td>\n",
              "      <td>1</td>\n",
              "      <td>5</td>\n",
              "      <td>2</td>\n",
              "      <td>children_playing</td>\n",
              "    </tr>\n",
              "    <tr>\n",
              "      <th>4</th>\n",
              "      <td>100263-2-0-137.wav</td>\n",
              "      <td>100263</td>\n",
              "      <td>68.5</td>\n",
              "      <td>72.500000</td>\n",
              "      <td>1</td>\n",
              "      <td>5</td>\n",
              "      <td>2</td>\n",
              "      <td>children_playing</td>\n",
              "    </tr>\n",
              "  </tbody>\n",
              "</table>\n",
              "</div>"
            ],
            "text/plain": [
              "      slice_file_name    fsID  start        end  salience  fold  classID  \\\n",
              "0    100032-3-0-0.wav  100032    0.0   0.317551         1     5        3   \n",
              "1  100263-2-0-117.wav  100263   58.5  62.500000         1     5        2   \n",
              "2  100263-2-0-121.wav  100263   60.5  64.500000         1     5        2   \n",
              "3  100263-2-0-126.wav  100263   63.0  67.000000         1     5        2   \n",
              "4  100263-2-0-137.wav  100263   68.5  72.500000         1     5        2   \n",
              "\n",
              "              class  \n",
              "0          dog_bark  \n",
              "1  children_playing  \n",
              "2  children_playing  \n",
              "3  children_playing  \n",
              "4  children_playing  "
            ]
          },
          "execution_count": 5,
          "metadata": {},
          "output_type": "execute_result"
        }
      ],
      "source": [
        "data = pd.read_csv('metadata/UrbanSound8K.csv')\n",
        "data.head()"
      ]
    },
    {
      "cell_type": "code",
      "execution_count": 6,
      "metadata": {
        "colab": {
          "base_uri": "https://localhost:8080/",
          "height": 287
        },
        "id": "FxPrDJEzGEsA",
        "outputId": "6dac5429-479d-46a1-8182-39c77776ea40"
      },
      "outputs": [
        {
          "data": {
            "text/html": [
              "<div>\n",
              "<style scoped>\n",
              "    .dataframe tbody tr th:only-of-type {\n",
              "        vertical-align: middle;\n",
              "    }\n",
              "\n",
              "    .dataframe tbody tr th {\n",
              "        vertical-align: top;\n",
              "    }\n",
              "\n",
              "    .dataframe thead th {\n",
              "        text-align: right;\n",
              "    }\n",
              "</style>\n",
              "<table border=\"1\" class=\"dataframe\">\n",
              "  <thead>\n",
              "    <tr style=\"text-align: right;\">\n",
              "      <th></th>\n",
              "      <th>fsID</th>\n",
              "      <th>start</th>\n",
              "      <th>end</th>\n",
              "      <th>salience</th>\n",
              "      <th>fold</th>\n",
              "      <th>classID</th>\n",
              "    </tr>\n",
              "  </thead>\n",
              "  <tbody>\n",
              "    <tr>\n",
              "      <th>count</th>\n",
              "      <td>8732.000000</td>\n",
              "      <td>8732.000000</td>\n",
              "      <td>8732.000000</td>\n",
              "      <td>8732.000000</td>\n",
              "      <td>8732.000000</td>\n",
              "      <td>8732.000000</td>\n",
              "    </tr>\n",
              "    <tr>\n",
              "      <th>mean</th>\n",
              "      <td>116033.493816</td>\n",
              "      <td>38.645409</td>\n",
              "      <td>42.253312</td>\n",
              "      <td>1.347000</td>\n",
              "      <td>5.385937</td>\n",
              "      <td>4.592877</td>\n",
              "    </tr>\n",
              "    <tr>\n",
              "      <th>std</th>\n",
              "      <td>57991.017218</td>\n",
              "      <td>74.292126</td>\n",
              "      <td>74.369669</td>\n",
              "      <td>0.476043</td>\n",
              "      <td>2.846820</td>\n",
              "      <td>2.894544</td>\n",
              "    </tr>\n",
              "    <tr>\n",
              "      <th>min</th>\n",
              "      <td>344.000000</td>\n",
              "      <td>0.000000</td>\n",
              "      <td>0.105962</td>\n",
              "      <td>1.000000</td>\n",
              "      <td>1.000000</td>\n",
              "      <td>0.000000</td>\n",
              "    </tr>\n",
              "    <tr>\n",
              "      <th>25%</th>\n",
              "      <td>69942.250000</td>\n",
              "      <td>3.000000</td>\n",
              "      <td>6.839398</td>\n",
              "      <td>1.000000</td>\n",
              "      <td>3.000000</td>\n",
              "      <td>2.000000</td>\n",
              "    </tr>\n",
              "    <tr>\n",
              "      <th>50%</th>\n",
              "      <td>118279.000000</td>\n",
              "      <td>10.376492</td>\n",
              "      <td>14.000000</td>\n",
              "      <td>1.000000</td>\n",
              "      <td>5.000000</td>\n",
              "      <td>4.000000</td>\n",
              "    </tr>\n",
              "    <tr>\n",
              "      <th>75%</th>\n",
              "      <td>166942.000000</td>\n",
              "      <td>35.131372</td>\n",
              "      <td>38.866979</td>\n",
              "      <td>2.000000</td>\n",
              "      <td>8.000000</td>\n",
              "      <td>7.000000</td>\n",
              "    </tr>\n",
              "    <tr>\n",
              "      <th>max</th>\n",
              "      <td>209992.000000</td>\n",
              "      <td>600.125356</td>\n",
              "      <td>604.125356</td>\n",
              "      <td>2.000000</td>\n",
              "      <td>10.000000</td>\n",
              "      <td>9.000000</td>\n",
              "    </tr>\n",
              "  </tbody>\n",
              "</table>\n",
              "</div>"
            ],
            "text/plain": [
              "                fsID        start          end     salience         fold  \\\n",
              "count    8732.000000  8732.000000  8732.000000  8732.000000  8732.000000   \n",
              "mean   116033.493816    38.645409    42.253312     1.347000     5.385937   \n",
              "std     57991.017218    74.292126    74.369669     0.476043     2.846820   \n",
              "min       344.000000     0.000000     0.105962     1.000000     1.000000   \n",
              "25%     69942.250000     3.000000     6.839398     1.000000     3.000000   \n",
              "50%    118279.000000    10.376492    14.000000     1.000000     5.000000   \n",
              "75%    166942.000000    35.131372    38.866979     2.000000     8.000000   \n",
              "max    209992.000000   600.125356   604.125356     2.000000    10.000000   \n",
              "\n",
              "           classID  \n",
              "count  8732.000000  \n",
              "mean      4.592877  \n",
              "std       2.894544  \n",
              "min       0.000000  \n",
              "25%       2.000000  \n",
              "50%       4.000000  \n",
              "75%       7.000000  \n",
              "max       9.000000  "
            ]
          },
          "execution_count": 6,
          "metadata": {},
          "output_type": "execute_result"
        }
      ],
      "source": [
        "data.describe()"
      ]
    },
    {
      "cell_type": "code",
      "execution_count": 7,
      "metadata": {
        "colab": {
          "base_uri": "https://localhost:8080/",
          "height": 347
        },
        "id": "geWCa2VNMMkP",
        "outputId": "6235643c-57bc-4b26-9e89-52b9acf10979"
      },
      "outputs": [
        {
          "data": {
            "text/html": [
              "<div>\n",
              "<style scoped>\n",
              "    .dataframe tbody tr th:only-of-type {\n",
              "        vertical-align: middle;\n",
              "    }\n",
              "\n",
              "    .dataframe tbody tr th {\n",
              "        vertical-align: top;\n",
              "    }\n",
              "\n",
              "    .dataframe thead th {\n",
              "        text-align: right;\n",
              "    }\n",
              "</style>\n",
              "<table border=\"1\" class=\"dataframe\">\n",
              "  <thead>\n",
              "    <tr style=\"text-align: right;\">\n",
              "      <th></th>\n",
              "      <th>index</th>\n",
              "      <th>jackhammer</th>\n",
              "      <th>dog_bark</th>\n",
              "      <th>children_playing</th>\n",
              "      <th>street_music</th>\n",
              "      <th>air_conditioner</th>\n",
              "      <th>drilling</th>\n",
              "      <th>engine_idling</th>\n",
              "      <th>siren</th>\n",
              "      <th>car_horn</th>\n",
              "      <th>gun_shot</th>\n",
              "    </tr>\n",
              "  </thead>\n",
              "  <tbody>\n",
              "    <tr>\n",
              "      <th>0</th>\n",
              "      <td>fold1</td>\n",
              "      <td>120</td>\n",
              "      <td>100</td>\n",
              "      <td>100</td>\n",
              "      <td>100</td>\n",
              "      <td>100</td>\n",
              "      <td>100</td>\n",
              "      <td>96</td>\n",
              "      <td>86</td>\n",
              "      <td>36</td>\n",
              "      <td>35</td>\n",
              "    </tr>\n",
              "    <tr>\n",
              "      <th>1</th>\n",
              "      <td>fold2</td>\n",
              "      <td>120</td>\n",
              "      <td>100</td>\n",
              "      <td>100</td>\n",
              "      <td>100</td>\n",
              "      <td>100</td>\n",
              "      <td>100</td>\n",
              "      <td>100</td>\n",
              "      <td>91</td>\n",
              "      <td>42</td>\n",
              "      <td>35</td>\n",
              "    </tr>\n",
              "    <tr>\n",
              "      <th>2</th>\n",
              "      <td>fold3</td>\n",
              "      <td>120</td>\n",
              "      <td>100</td>\n",
              "      <td>100</td>\n",
              "      <td>100</td>\n",
              "      <td>100</td>\n",
              "      <td>100</td>\n",
              "      <td>107</td>\n",
              "      <td>119</td>\n",
              "      <td>43</td>\n",
              "      <td>36</td>\n",
              "    </tr>\n",
              "    <tr>\n",
              "      <th>3</th>\n",
              "      <td>fold4</td>\n",
              "      <td>120</td>\n",
              "      <td>100</td>\n",
              "      <td>100</td>\n",
              "      <td>100</td>\n",
              "      <td>100</td>\n",
              "      <td>100</td>\n",
              "      <td>107</td>\n",
              "      <td>166</td>\n",
              "      <td>59</td>\n",
              "      <td>38</td>\n",
              "    </tr>\n",
              "    <tr>\n",
              "      <th>4</th>\n",
              "      <td>fold5</td>\n",
              "      <td>120</td>\n",
              "      <td>100</td>\n",
              "      <td>100</td>\n",
              "      <td>100</td>\n",
              "      <td>100</td>\n",
              "      <td>100</td>\n",
              "      <td>107</td>\n",
              "      <td>71</td>\n",
              "      <td>98</td>\n",
              "      <td>40</td>\n",
              "    </tr>\n",
              "    <tr>\n",
              "      <th>5</th>\n",
              "      <td>fold6</td>\n",
              "      <td>68</td>\n",
              "      <td>100</td>\n",
              "      <td>100</td>\n",
              "      <td>100</td>\n",
              "      <td>100</td>\n",
              "      <td>100</td>\n",
              "      <td>107</td>\n",
              "      <td>74</td>\n",
              "      <td>28</td>\n",
              "      <td>46</td>\n",
              "    </tr>\n",
              "    <tr>\n",
              "      <th>6</th>\n",
              "      <td>fold7</td>\n",
              "      <td>76</td>\n",
              "      <td>100</td>\n",
              "      <td>100</td>\n",
              "      <td>100</td>\n",
              "      <td>100</td>\n",
              "      <td>100</td>\n",
              "      <td>106</td>\n",
              "      <td>77</td>\n",
              "      <td>28</td>\n",
              "      <td>51</td>\n",
              "    </tr>\n",
              "    <tr>\n",
              "      <th>7</th>\n",
              "      <td>fold8</td>\n",
              "      <td>78</td>\n",
              "      <td>100</td>\n",
              "      <td>100</td>\n",
              "      <td>100</td>\n",
              "      <td>100</td>\n",
              "      <td>100</td>\n",
              "      <td>88</td>\n",
              "      <td>80</td>\n",
              "      <td>30</td>\n",
              "      <td>30</td>\n",
              "    </tr>\n",
              "    <tr>\n",
              "      <th>8</th>\n",
              "      <td>fold9</td>\n",
              "      <td>82</td>\n",
              "      <td>100</td>\n",
              "      <td>100</td>\n",
              "      <td>100</td>\n",
              "      <td>100</td>\n",
              "      <td>100</td>\n",
              "      <td>89</td>\n",
              "      <td>82</td>\n",
              "      <td>32</td>\n",
              "      <td>31</td>\n",
              "    </tr>\n",
              "    <tr>\n",
              "      <th>9</th>\n",
              "      <td>fold10</td>\n",
              "      <td>96</td>\n",
              "      <td>100</td>\n",
              "      <td>100</td>\n",
              "      <td>100</td>\n",
              "      <td>100</td>\n",
              "      <td>100</td>\n",
              "      <td>93</td>\n",
              "      <td>83</td>\n",
              "      <td>33</td>\n",
              "      <td>32</td>\n",
              "    </tr>\n",
              "  </tbody>\n",
              "</table>\n",
              "</div>"
            ],
            "text/plain": [
              "    index  jackhammer  dog_bark  children_playing  street_music  \\\n",
              "0   fold1         120       100               100           100   \n",
              "1   fold2         120       100               100           100   \n",
              "2   fold3         120       100               100           100   \n",
              "3   fold4         120       100               100           100   \n",
              "4   fold5         120       100               100           100   \n",
              "5   fold6          68       100               100           100   \n",
              "6   fold7          76       100               100           100   \n",
              "7   fold8          78       100               100           100   \n",
              "8   fold9          82       100               100           100   \n",
              "9  fold10          96       100               100           100   \n",
              "\n",
              "   air_conditioner  drilling  engine_idling  siren  car_horn  gun_shot  \n",
              "0              100       100             96     86        36        35  \n",
              "1              100       100            100     91        42        35  \n",
              "2              100       100            107    119        43        36  \n",
              "3              100       100            107    166        59        38  \n",
              "4              100       100            107     71        98        40  \n",
              "5              100       100            107     74        28        46  \n",
              "6              100       100            106     77        28        51  \n",
              "7              100       100             88     80        30        30  \n",
              "8              100       100             89     82        32        31  \n",
              "9              100       100             93     83        33        32  "
            ]
          },
          "execution_count": 7,
          "metadata": {},
          "output_type": "execute_result"
        }
      ],
      "source": [
        "appended = []\n",
        "for i in range(1,11):\n",
        "    appended.append(data[data.fold == i]['class'].value_counts())\n",
        "    \n",
        "class_distribution = pd.DataFrame(appended)\n",
        "class_distribution = class_distribution.reset_index()\n",
        "class_distribution['index'] = [\"fold\"+str(x) for x in range(1,11)]\n",
        "class_distribution"
      ]
    },
    {
      "cell_type": "code",
      "execution_count": 8,
      "metadata": {
        "colab": {
          "base_uri": "https://localhost:8080/"
        },
        "id": "dqr_apDpMf92",
        "outputId": "b01ce14f-bb05-4b0a-8234-448dc13f9805"
      },
      "outputs": [
        {
          "data": {
            "text/plain": [
              "dog_bark            0.114521\n",
              "children_playing    0.114521\n",
              "air_conditioner     0.114521\n",
              "street_music        0.114521\n",
              "engine_idling       0.114521\n",
              "jackhammer          0.114521\n",
              "drilling            0.114521\n",
              "siren               0.106390\n",
              "car_horn            0.049130\n",
              "gun_shot            0.042831\n",
              "Name: class, dtype: float64"
            ]
          },
          "execution_count": 8,
          "metadata": {},
          "output_type": "execute_result"
        }
      ],
      "source": [
        "data['class'].value_counts(normalize=True)"
      ]
    },
    {
      "cell_type": "markdown",
      "metadata": {
        "id": "raj4cblIPdgK"
      },
      "source": [
        "**Loading The Data Into The Notebook**"
      ]
    },
    {
      "cell_type": "code",
      "execution_count": 13,
      "metadata": {
        "id": "HEii7TJw1rKN"
      },
      "outputs": [],
      "source": [
        "iteration_number = 0\n",
        "\n",
        "def parser(row):\n",
        "  file_name = 'audio/fold' + str(row.fold) + '/' + row.slice_file_name\n",
        "  X, sample_rate = librosa.load(file_name, res_type='kaiser_fast') \n",
        "  mels = np.mean(librosa.feature.melspectrogram(y=X, sr=sample_rate).T,axis=0) \n",
        "\n",
        "  feature = mels\n",
        "  label = row.classID\n",
        "\n",
        "  global iteration_number\n",
        "  iteration_number += 1\n",
        "  if (iteration_number > 0):\n",
        "    print(f\"\\rNumber: {iteration_number}/8732 \", end=\"\")  \n",
        "  return feature, label"
      ]
    },
    {
      "cell_type": "code",
      "execution_count": 14,
      "metadata": {
        "colab": {
          "base_uri": "https://localhost:8080/"
        },
        "id": "2zCNoss0RCV2",
        "outputId": "7dea5bc1-0570-40b6-95bd-d5e6c4c4c791"
      },
      "outputs": [
        {
          "name": "stdout",
          "output_type": "stream",
          "text": [
            "Number: 3558/8700 "
          ]
        },
        {
          "name": "stderr",
          "output_type": "stream",
          "text": [
            "c:\\Users\\yello\\AppData\\Local\\Programs\\Python\\Python310\\lib\\site-packages\\librosa\\util\\decorators.py:88: UserWarning: n_fft=2048 is too small for input signal of length=1323\n",
            "  return f(*args, **kwargs)\n"
          ]
        },
        {
          "name": "stdout",
          "output_type": "stream",
          "text": [
            "Number: 8331/8700 "
          ]
        },
        {
          "name": "stderr",
          "output_type": "stream",
          "text": [
            "c:\\Users\\yello\\AppData\\Local\\Programs\\Python\\Python310\\lib\\site-packages\\librosa\\util\\decorators.py:88: UserWarning: n_fft=2048 is too small for input signal of length=1103\n",
            "  return f(*args, **kwargs)\n",
            "c:\\Users\\yello\\AppData\\Local\\Programs\\Python\\Python310\\lib\\site-packages\\librosa\\util\\decorators.py:88: UserWarning: n_fft=2048 is too small for input signal of length=1523\n",
            "  return f(*args, **kwargs)\n"
          ]
        },
        {
          "name": "stdout",
          "output_type": "stream",
          "text": [
            "Number: 8732/8700 "
          ]
        }
      ],
      "source": [
        "transformed_data = data.apply(parser, axis = 1)"
      ]
    },
    {
      "cell_type": "markdown",
      "metadata": {
        "id": "UkFcFZEwmaEY"
      },
      "source": [
        "**Preprocessing The Data**"
      ]
    },
    {
      "cell_type": "code",
      "execution_count": 15,
      "metadata": {
        "id": "4sd1DrEndd67"
      },
      "outputs": [
        {
          "data": {
            "text/plain": [
              "<function list.index(value, start=0, stop=9223372036854775807, /)>"
            ]
          },
          "execution_count": 15,
          "metadata": {},
          "output_type": "execute_result"
        }
      ],
      "source": [
        "transformed_data = list(transformed_data)\n",
        "transformed_data.index"
      ]
    },
    {
      "cell_type": "code",
      "execution_count": 16,
      "metadata": {
        "colab": {
          "base_uri": "https://localhost:8080/",
          "height": 407
        },
        "id": "s2Zd-EHJdpM3",
        "outputId": "6e9c25c4-ff62-432c-dd37-ede956062cd8"
      },
      "outputs": [],
      "source": [
        "transformed_data = pd.DataFrame(transformed_data, columns = ['feature', 'label'])"
      ]
    },
    {
      "cell_type": "code",
      "execution_count": 17,
      "metadata": {
        "id": "EQPT3M8Vd5io"
      },
      "outputs": [],
      "source": [
        "X = np.array(transformed_data.feature.tolist())\n",
        "Y = np.array(transformed_data.label.tolist())"
      ]
    },
    {
      "cell_type": "code",
      "execution_count": 18,
      "metadata": {
        "colab": {
          "base_uri": "https://localhost:8080/"
        },
        "id": "4xDwoAQfeDNu",
        "outputId": "de214b1e-fc07-44eb-a24b-0a434e4c41e7"
      },
      "outputs": [
        {
          "data": {
            "text/plain": [
              "(8732, 128)"
            ]
          },
          "execution_count": 18,
          "metadata": {},
          "output_type": "execute_result"
        }
      ],
      "source": [
        "X.shape"
      ]
    },
    {
      "cell_type": "code",
      "execution_count": 19,
      "metadata": {
        "colab": {
          "base_uri": "https://localhost:8080/"
        },
        "id": "HcGgmjAeeEEE",
        "outputId": "ec5fd1dc-5a53-4850-9b81-c5e3e7be1b5f"
      },
      "outputs": [
        {
          "data": {
            "text/plain": [
              "(8732,)"
            ]
          },
          "execution_count": 19,
          "metadata": {},
          "output_type": "execute_result"
        }
      ],
      "source": [
        "Y.shape"
      ]
    },
    {
      "cell_type": "code",
      "execution_count": 20,
      "metadata": {
        "id": "AtEdPVrYeFGq"
      },
      "outputs": [],
      "source": [
        "from sklearn.model_selection import train_test_split\n",
        "\n",
        "X_train, X_test, Y_train, Y_test = train_test_split(X, Y,test_size=0.1)"
      ]
    },
    {
      "cell_type": "code",
      "execution_count": 21,
      "metadata": {
        "colab": {
          "base_uri": "https://localhost:8080/"
        },
        "id": "OjxehlMXeL7s",
        "outputId": "193b9e1b-7bf7-437b-e70d-2e2b30356dbb"
      },
      "outputs": [
        {
          "name": "stdout",
          "output_type": "stream",
          "text": [
            "(7858, 128)\n",
            "(874, 128)\n",
            "(7858,)\n",
            "(874,)\n"
          ]
        }
      ],
      "source": [
        "print(X_train.shape)\n",
        "print(X_test.shape)\n",
        "print(Y_train.shape)\n",
        "print(Y_test.shape)"
      ]
    },
    {
      "cell_type": "code",
      "execution_count": 22,
      "metadata": {
        "id": "ubauvgdELLrd"
      },
      "outputs": [],
      "source": [
        "from keras.utils import to_categorical\n",
        "\n",
        "Y_train = to_categorical(Y_train, num_classes = 10)\n",
        "Y_test = to_categorical(Y_test, num_classes = 10)"
      ]
    },
    {
      "cell_type": "code",
      "execution_count": 23,
      "metadata": {
        "id": "B39wr2npWitp"
      },
      "outputs": [],
      "source": [
        "X_train = X_train.reshape(-1, 16, 8, 1)\n",
        "X_test = X_test.reshape(-1, 16, 8, 1)"
      ]
    },
    {
      "cell_type": "code",
      "execution_count": 24,
      "metadata": {
        "colab": {
          "base_uri": "https://localhost:8080/"
        },
        "id": "KdvVVlOci__Q",
        "outputId": "204ae78a-3358-4609-c436-5dcb2c69f52f"
      },
      "outputs": [
        {
          "name": "stdout",
          "output_type": "stream",
          "text": [
            "(7858, 16, 8, 1)\n",
            "(874, 16, 8, 1)\n",
            "(7858, 10)\n",
            "(874, 10)\n"
          ]
        }
      ],
      "source": [
        "print(X_train.shape)\n",
        "print(X_test.shape)\n",
        "print(Y_train.shape)\n",
        "print(Y_test.shape)"
      ]
    },
    {
      "cell_type": "markdown",
      "metadata": {
        "id": "2-WWlgdAnqdn"
      },
      "source": [
        "**Training The Model**"
      ]
    },
    {
      "cell_type": "code",
      "execution_count": 25,
      "metadata": {
        "id": "9COTtQ6egF_F"
      },
      "outputs": [],
      "source": [
        "from keras.models import Sequential\n",
        "from keras.layers import Dense, Dropout, Flatten, LSTM, SimpleRNN, Conv2D, MaxPool2D"
      ]
    },
    {
      "cell_type": "code",
      "execution_count": 26,
      "metadata": {
        "id": "gukpHihsgV_y"
      },
      "outputs": [],
      "source": [
        "model = Sequential([\n",
        "  Conv2D(128, (2, 2), input_shape=(16, 8, 1), padding='same', activation='tanh'),\n",
        "  MaxPool2D(pool_size=(2, 2)),\n",
        "  Conv2D(256, (2, 2), padding='same', activation='tanh'),\n",
        "  MaxPool2D(pool_size=(2, 2)),\n",
        "  Dropout(0.2),\n",
        "  Flatten(),\n",
        "  Dense(1024, activation='tanh'),\n",
        "  Dropout(0.1),\n",
        "  Dense(512, activation='relu'),\n",
        "  Dropout(0.1),\n",
        "  Dense(10, activation='softmax')\n",
        "])"
      ]
    },
    {
      "cell_type": "code",
      "execution_count": 27,
      "metadata": {
        "colab": {
          "base_uri": "https://localhost:8080/"
        },
        "id": "4cMuxAZ2aKJo",
        "outputId": "1a29715a-1cfa-47d2-b5a1-8cb2fd6690ca"
      },
      "outputs": [
        {
          "name": "stdout",
          "output_type": "stream",
          "text": [
            "Model: \"sequential\"\n",
            "_________________________________________________________________\n",
            " Layer (type)                Output Shape              Param #   \n",
            "=================================================================\n",
            " conv2d (Conv2D)             (None, 16, 8, 128)        640       \n",
            "                                                                 \n",
            " max_pooling2d (MaxPooling2D  (None, 8, 4, 128)        0         \n",
            " )                                                               \n",
            "                                                                 \n",
            " conv2d_1 (Conv2D)           (None, 8, 4, 256)         131328    \n",
            "                                                                 \n",
            " max_pooling2d_1 (MaxPooling  (None, 4, 2, 256)        0         \n",
            " 2D)                                                             \n",
            "                                                                 \n",
            " dropout (Dropout)           (None, 4, 2, 256)         0         \n",
            "                                                                 \n",
            " flatten (Flatten)           (None, 2048)              0         \n",
            "                                                                 \n",
            " dense (Dense)               (None, 1024)              2098176   \n",
            "                                                                 \n",
            " dropout_1 (Dropout)         (None, 1024)              0         \n",
            "                                                                 \n",
            " dense_1 (Dense)             (None, 512)               524800    \n",
            "                                                                 \n",
            " dropout_2 (Dropout)         (None, 512)               0         \n",
            "                                                                 \n",
            " dense_2 (Dense)             (None, 10)                5130      \n",
            "                                                                 \n",
            "=================================================================\n",
            "Total params: 2,760,074\n",
            "Trainable params: 2,760,074\n",
            "Non-trainable params: 0\n",
            "_________________________________________________________________\n"
          ]
        }
      ],
      "source": [
        "model.summary()"
      ]
    },
    {
      "cell_type": "code",
      "execution_count": 28,
      "metadata": {
        "id": "nLXQokp3hGUD"
      },
      "outputs": [],
      "source": [
        "model.compile(loss='categorical_crossentropy', metrics=['accuracy'], optimizer='adam')"
      ]
    },
    {
      "cell_type": "code",
      "execution_count": 29,
      "metadata": {},
      "outputs": [
        {
          "name": "stdout",
          "output_type": "stream",
          "text": [
            "x_train : 7858\n",
            "x_test : 874\n",
            "y_train : 7858\n",
            "y_test : 874\n"
          ]
        }
      ],
      "source": [
        "# Print the lengths of the each dataset\n",
        "print(f\"x_train : {len(X_train)}\")\n",
        "print(f\"x_test : {len(X_test)}\")\n",
        "print(f\"y_train : {len(Y_train)}\")\n",
        "print(f\"y_test : {len(Y_test)}\")"
      ]
    },
    {
      "cell_type": "code",
      "execution_count": 30,
      "metadata": {
        "colab": {
          "base_uri": "https://localhost:8080/"
        },
        "id": "NIw43CgYhOeE",
        "outputId": "78e60f19-57e3-49b0-c529-4fe111b4c33d"
      },
      "outputs": [
        {
          "name": "stdout",
          "output_type": "stream",
          "text": [
            "Epoch 1/20\n",
            "246/246 [==============================] - 10s 36ms/step - loss: 1.5767 - accuracy: 0.4544 - val_loss: 1.2254 - val_accuracy: 0.5606\n",
            "Epoch 2/20\n",
            "246/246 [==============================] - 9s 35ms/step - loss: 1.1747 - accuracy: 0.6041 - val_loss: 0.9697 - val_accuracy: 0.6819\n",
            "Epoch 3/20\n",
            "246/246 [==============================] - 9s 35ms/step - loss: 0.9357 - accuracy: 0.6840 - val_loss: 0.8407 - val_accuracy: 0.7471\n",
            "Epoch 4/20\n",
            "246/246 [==============================] - 9s 35ms/step - loss: 0.8126 - accuracy: 0.7335 - val_loss: 0.7281 - val_accuracy: 0.7563\n",
            "Epoch 5/20\n",
            "246/246 [==============================] - 9s 35ms/step - loss: 0.7222 - accuracy: 0.7538 - val_loss: 0.6973 - val_accuracy: 0.7735\n",
            "Epoch 6/20\n",
            "246/246 [==============================] - 9s 35ms/step - loss: 0.6255 - accuracy: 0.7876 - val_loss: 0.6552 - val_accuracy: 0.7918\n",
            "Epoch 7/20\n",
            "246/246 [==============================] - 9s 35ms/step - loss: 0.5389 - accuracy: 0.8160 - val_loss: 0.6448 - val_accuracy: 0.8066\n",
            "Epoch 8/20\n",
            "246/246 [==============================] - 9s 35ms/step - loss: 0.4968 - accuracy: 0.8278 - val_loss: 0.5925 - val_accuracy: 0.8021\n",
            "Epoch 9/20\n",
            "246/246 [==============================] - 9s 35ms/step - loss: 0.4441 - accuracy: 0.8465 - val_loss: 0.5922 - val_accuracy: 0.8227\n",
            "Epoch 10/20\n",
            "246/246 [==============================] - 9s 35ms/step - loss: 0.4041 - accuracy: 0.8646 - val_loss: 0.5960 - val_accuracy: 0.8284\n",
            "Epoch 11/20\n",
            "246/246 [==============================] - 9s 35ms/step - loss: 0.3938 - accuracy: 0.8638 - val_loss: 0.5977 - val_accuracy: 0.8398\n",
            "Epoch 12/20\n",
            "246/246 [==============================] - 9s 36ms/step - loss: 0.3804 - accuracy: 0.8717 - val_loss: 0.6814 - val_accuracy: 0.8146\n",
            "Epoch 13/20\n",
            "246/246 [==============================] - 9s 36ms/step - loss: 0.3374 - accuracy: 0.8829 - val_loss: 0.6234 - val_accuracy: 0.8215\n",
            "Epoch 14/20\n",
            "246/246 [==============================] - 9s 36ms/step - loss: 0.3301 - accuracy: 0.8858 - val_loss: 0.5270 - val_accuracy: 0.8558\n",
            "Epoch 15/20\n",
            "246/246 [==============================] - 9s 36ms/step - loss: 0.2948 - accuracy: 0.8993 - val_loss: 0.5458 - val_accuracy: 0.8410\n",
            "Epoch 16/20\n",
            "246/246 [==============================] - 9s 35ms/step - loss: 0.2819 - accuracy: 0.9016 - val_loss: 0.5409 - val_accuracy: 0.8501\n",
            "Epoch 17/20\n",
            "246/246 [==============================] - 8s 34ms/step - loss: 0.2826 - accuracy: 0.9051 - val_loss: 0.6461 - val_accuracy: 0.8410\n",
            "Epoch 18/20\n",
            "246/246 [==============================] - 8s 33ms/step - loss: 0.2670 - accuracy: 0.9062 - val_loss: 0.6969 - val_accuracy: 0.8513\n",
            "Epoch 19/20\n",
            "246/246 [==============================] - 8s 33ms/step - loss: 0.2640 - accuracy: 0.9107 - val_loss: 0.6841 - val_accuracy: 0.8421\n",
            "Epoch 20/20\n",
            "246/246 [==============================] - 8s 33ms/step - loss: 0.2576 - accuracy: 0.9130 - val_loss: 0.5920 - val_accuracy: 0.8535\n"
          ]
        }
      ],
      "source": [
        "hist = model.fit(X_train, Y_train, epochs=20, validation_data=(X_test, Y_test))"
      ]
    },
    {
      "cell_type": "markdown",
      "metadata": {
        "id": "zQtj_CDkjiJs"
      },
      "source": [
        "**Evaluating The Model**"
      ]
    },
    {
      "cell_type": "code",
      "execution_count": 31,
      "metadata": {},
      "outputs": [
        {
          "data": {
            "image/png": "[encoded data removed]",
            "text/plain": [
              "<Figure size 1600x600 with 2 Axes>"
            ]
          },
          "metadata": {},
          "output_type": "display_data"
        }
      ],
      "source": [
        "plt.figure(figsize=(16,6))\n",
        "plt.subplot(1,2,1)\n",
        "plt.suptitle('Train',fontsize=10)\n",
        "plt.ylabel('Loss',fontsize=16)\n",
        "plt.plot(hist.history['loss'],color='r',label='Training Loss')\n",
        "plt.plot(hist.history['val_loss'],color='b',label='Validation Loss')\n",
        "plt.legend(loc='upper right')\n",
        "\n",
        "plt.subplot(1,2,2)\n",
        "plt.ylabel('Accuracy',fontsize=16)\n",
        "plt.plot(hist.history['accuracy'],color='g',label='Training Accuracy')\n",
        "plt.plot(hist.history['val_accuracy'],color='m',label='Validation Accuracy')\n",
        "plt.legend(loc='lower right')\n",
        "plt.show()"
      ]
    },
    {
      "cell_type": "code",
      "execution_count": 32,
      "metadata": {
        "colab": {
          "base_uri": "https://localhost:8080/"
        },
        "id": "_KjroMSojNkl",
        "outputId": "cbba5f06-f219-45bf-ccdd-9ab0ff46315b"
      },
      "outputs": [
        {
          "name": "stdout",
          "output_type": "stream",
          "text": [
            "28/28 [==============================] - 0s 9ms/step - loss: 0.5920 - accuracy: 0.8535\n"
          ]
        },
        {
          "data": {
            "text/plain": [
              "[0.592003583908081, 0.8535469174385071]"
            ]
          },
          "execution_count": 32,
          "metadata": {},
          "output_type": "execute_result"
        }
      ],
      "source": [
        "model.evaluate(X_test, Y_test)"
      ]
    },
    {
      "cell_type": "markdown",
      "metadata": {
        "id": "VaWUYUBeksfc"
      },
      "source": [
        "We have achieved 87.35% accuracy on the testing data."
      ]
    }
  ],
  "metadata": {
    "accelerator": "GPU",
    "colab": {
      "collapsed_sections": [],
      "name": "Sound_Classification_UrbanSound8K - 2.ipynb",
      "provenance": []
    },
    "kernelspec": {
      "display_name": "Python 3.10.4 64-bit",
      "language": "python",
      "name": "python3"
    },
    "language_info": {
      "codemirror_mode": {
        "name": "ipython",
        "version": 3
      },
      "file_extension": ".py",
      "mimetype": "text/x-python",
      "name": "python",
      "nbconvert_exporter": "python",
      "pygments_lexer": "ipython3",
      "version": "3.10.4"
    },
    "vscode": {
      "interpreter": {
        "hash": "cd1a4323fb379de9187160a9aa0337dabefd7009b5703fc03d0198e947213ff5"
      }
    }
  },
  "nbformat": 4,
  "nbformat_minor": 0
}
